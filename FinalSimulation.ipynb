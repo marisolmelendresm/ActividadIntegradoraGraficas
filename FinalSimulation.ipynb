{
  "nbformat": 4,
  "nbformat_minor": 5,
  "metadata": {
    "@webio": {
      "lastCommId": null,
      "lastKernelId": null
    },
    "kernelspec": {
      "display_name": "Python 3",
      "language": "python",
      "name": "python3"
    },
    "language_info": {
      "codemirror_mode": {
        "name": "ipython",
        "version": 3
      },
      "file_extension": ".py",
      "mimetype": "text/x-python",
      "name": "python",
      "nbconvert_exporter": "python",
      "pygments_lexer": "ipython3",
      "version": "3.8.8"
    },
    "colab": {
      "name": "FinalSimulation.ipynb",
      "provenance": [],
      "collapsed_sections": []
    }
  },
  "cells": [
    {
      "cell_type": "markdown",
      "metadata": {
        "id": "898f0d0b"
      },
      "source": [
        "# Simulación de una avenida con paso peatonal\n",
        "En esta simulación se representa una avenida con dos carriles y un paso peatonal. El tráfico se controla con dos semáforos que detienen a los autos en el paso peatonal."
      ],
      "id": "898f0d0b"
    },
    {
      "cell_type": "markdown",
      "metadata": {
        "id": "414f50d9"
      },
      "source": [
        "## Librerías para la simulación"
      ],
      "id": "414f50d9"
    },
    {
      "cell_type": "code",
      "metadata": {
        "id": "tIXOKG2OBOJi",
        "colab": {
          "base_uri": "https://localhost:8080/"
        },
        "outputId": "857c4382-5802-46a8-e669-f57d844f27ca"
      },
      "source": [
        "pip install agentpy"
      ],
      "id": "tIXOKG2OBOJi",
      "execution_count": null,
      "outputs": [
        {
          "output_type": "stream",
          "name": "stdout",
          "text": [
            "Requirement already satisfied: agentpy in /usr/local/lib/python3.7/dist-packages (0.1.4)\n",
            "Requirement already satisfied: numpy>=1.19 in /usr/local/lib/python3.7/dist-packages (from agentpy) (1.19.5)\n",
            "Requirement already satisfied: SALib>=1.3.7 in /usr/local/lib/python3.7/dist-packages (from agentpy) (1.4.5)\n",
            "Requirement already satisfied: networkx>=2.5 in /usr/local/lib/python3.7/dist-packages (from agentpy) (2.6.3)\n",
            "Requirement already satisfied: pandas>=1.1.3 in /usr/local/lib/python3.7/dist-packages (from agentpy) (1.1.5)\n",
            "Requirement already satisfied: importlib-metadata~=1.0 in /usr/local/lib/python3.7/dist-packages (from agentpy) (1.7.0)\n",
            "Requirement already satisfied: scipy>=1.5.2 in /usr/local/lib/python3.7/dist-packages (from agentpy) (1.7.3)\n",
            "Requirement already satisfied: matplotlib>=3.3.3 in /usr/local/lib/python3.7/dist-packages (from agentpy) (3.4.3)\n",
            "Requirement already satisfied: zipp>=0.5 in /usr/local/lib/python3.7/dist-packages (from importlib-metadata~=1.0->agentpy) (3.6.0)\n",
            "Requirement already satisfied: pyparsing>=2.2.1 in /usr/local/lib/python3.7/dist-packages (from matplotlib>=3.3.3->agentpy) (3.0.6)\n",
            "Requirement already satisfied: python-dateutil>=2.7 in /usr/local/lib/python3.7/dist-packages (from matplotlib>=3.3.3->agentpy) (2.8.2)\n",
            "Requirement already satisfied: kiwisolver>=1.0.1 in /usr/local/lib/python3.7/dist-packages (from matplotlib>=3.3.3->agentpy) (1.3.2)\n",
            "Requirement already satisfied: pillow>=6.2.0 in /usr/local/lib/python3.7/dist-packages (from matplotlib>=3.3.3->agentpy) (7.1.2)\n",
            "Requirement already satisfied: cycler>=0.10 in /usr/local/lib/python3.7/dist-packages (from matplotlib>=3.3.3->agentpy) (0.11.0)\n",
            "Requirement already satisfied: pytz>=2017.2 in /usr/local/lib/python3.7/dist-packages (from pandas>=1.1.3->agentpy) (2018.9)\n",
            "Requirement already satisfied: six>=1.5 in /usr/local/lib/python3.7/dist-packages (from python-dateutil>=2.7->matplotlib>=3.3.3->agentpy) (1.15.0)\n",
            "Requirement already satisfied: setuptools in /usr/local/lib/python3.7/dist-packages (from SALib>=1.3.7->agentpy) (57.4.0)\n",
            "Requirement already satisfied: wheel in /usr/local/lib/python3.7/dist-packages (from SALib>=1.3.7->agentpy) (0.37.0)\n",
            "Requirement already satisfied: pathos in /usr/local/lib/python3.7/dist-packages (from SALib>=1.3.7->agentpy) (0.2.8)\n",
            "Requirement already satisfied: multiprocess>=0.70.12 in /usr/local/lib/python3.7/dist-packages (from pathos->SALib>=1.3.7->agentpy) (0.70.12.2)\n",
            "Requirement already satisfied: ppft>=1.6.6.4 in /usr/local/lib/python3.7/dist-packages (from pathos->SALib>=1.3.7->agentpy) (1.6.6.4)\n",
            "Requirement already satisfied: dill>=0.3.4 in /usr/local/lib/python3.7/dist-packages (from pathos->SALib>=1.3.7->agentpy) (0.3.4)\n",
            "Requirement already satisfied: pox>=0.3.0 in /usr/local/lib/python3.7/dist-packages (from pathos->SALib>=1.3.7->agentpy) (0.3.0)\n"
          ]
        }
      ]
    },
    {
      "cell_type": "code",
      "metadata": {
        "id": "-dzTC3MDBNRJ",
        "colab": {
          "base_uri": "https://localhost:8080/"
        },
        "outputId": "a344c05a-9c45-417b-c49f-ec26a4e38bea"
      },
      "source": [
        "pip install matplotlib==3.4.3"
      ],
      "id": "-dzTC3MDBNRJ",
      "execution_count": null,
      "outputs": [
        {
          "output_type": "stream",
          "name": "stdout",
          "text": [
            "Requirement already satisfied: matplotlib==3.4.3 in /usr/local/lib/python3.7/dist-packages (3.4.3)\n",
            "Requirement already satisfied: kiwisolver>=1.0.1 in /usr/local/lib/python3.7/dist-packages (from matplotlib==3.4.3) (1.3.2)\n",
            "Requirement already satisfied: python-dateutil>=2.7 in /usr/local/lib/python3.7/dist-packages (from matplotlib==3.4.3) (2.8.2)\n",
            "Requirement already satisfied: pyparsing>=2.2.1 in /usr/local/lib/python3.7/dist-packages (from matplotlib==3.4.3) (3.0.6)\n",
            "Requirement already satisfied: pillow>=6.2.0 in /usr/local/lib/python3.7/dist-packages (from matplotlib==3.4.3) (7.1.2)\n",
            "Requirement already satisfied: numpy>=1.16 in /usr/local/lib/python3.7/dist-packages (from matplotlib==3.4.3) (1.19.5)\n",
            "Requirement already satisfied: cycler>=0.10 in /usr/local/lib/python3.7/dist-packages (from matplotlib==3.4.3) (0.11.0)\n",
            "Requirement already satisfied: six>=1.5 in /usr/local/lib/python3.7/dist-packages (from python-dateutil>=2.7->matplotlib==3.4.3) (1.15.0)\n"
          ]
        }
      ]
    },
    {
      "cell_type": "code",
      "metadata": {
        "id": "6815b43c"
      },
      "source": [
        "import agentpy as ap\n",
        "import numpy as np\n",
        "import matplotlib.pyplot as plt\n",
        "import math\n",
        "import IPython"
      ],
      "id": "6815b43c",
      "execution_count": null,
      "outputs": []
    },
    {
      "cell_type": "markdown",
      "metadata": {
        "id": "e85a9312"
      },
      "source": [
        "## Definición del agente semáforo"
      ],
      "id": "e85a9312"
    },
    {
      "cell_type": "code",
      "metadata": {
        "id": "c3d2d010"
      },
      "source": [
        "class Semaphore(ap.Agent):\n",
        "    \"\"\" \n",
        "        Esta clase define a un semáforo.\n",
        "    \"\"\"\n",
        "\n",
        "    def setup(self):\n",
        "        \"\"\" Este método se utiliza para inicializar al semáforo. \"\"\"\n",
        "        \n",
        "        self.step_time = 0.1         # Tiempo que dura cada paso de la simulación\n",
        "\n",
        "        self.direction = [0, 1]      # Dirección a la que apunta el semáforo\n",
        "\n",
        "        self.state = 0               # Estado del semáforo 0 = verde, 1 = amarillo, 2 = rojo\n",
        "        self.state_time = 0          # Tiempo que ha durado el semáforo en el estado actual\n",
        "\n",
        "        self.green_duration = 50     # Tiempo que dura el semáforo en verde\n",
        "        self.yellow_duration = 5     # Tiempo que dura el semáforo en amarillo\n",
        "        self.red_duration = 45       # Tiempo que dura el semáforo en rojo        \n",
        "\n",
        "    def update(self):\n",
        "        \"\"\" Este método actualiza el estado del semáforo. \"\"\"\n",
        "        self.state_time += self.step_time\n",
        "\n",
        "        if self.state == 0:\n",
        "            # Caso en el que el semáforo está en verde\n",
        "            if self.state_time >= self.green_duration:\n",
        "                self.state = 1\n",
        "                self.state_time = 0\n",
        "        elif self.state == 1:\n",
        "            # Caso en el que el semáforo está en amarillo\n",
        "            if self.state_time >= self.yellow_duration:\n",
        "                self.state = 2\n",
        "                self.state_time = 0\n",
        "        elif self.state == 2:\n",
        "            # Caso en el que el semáforo está en rojo\n",
        "            if self.state_time >= self.red_duration:\n",
        "                self.state = 0\n",
        "                self.state_time = 0\n",
        "\n",
        "    def set_green(self):\n",
        "        \"\"\" Este método forza el semáforo a estar en verde. \"\"\"        \n",
        "        self.state = 0\n",
        "        self.state_time = 0\n",
        "\n",
        "    def set_yellow(self):\n",
        "        \"\"\" Este método forza el semáforo a estar en amarillo. \"\"\"        \n",
        "        self.state = 1\n",
        "        self.state_time = 0\n",
        "\n",
        "    def set_red(self):\n",
        "        \"\"\" Este método forza el semáforo a estar en rojo. \"\"\"        \n",
        "        self.state = 2\n",
        "        self.state_time = 0\n"
      ],
      "id": "c3d2d010",
      "execution_count": null,
      "outputs": []
    },
    {
      "cell_type": "markdown",
      "metadata": {
        "id": "ad608d44"
      },
      "source": [
        "## Definición del agente auto"
      ],
      "id": "ad608d44"
    },
    {
      "cell_type": "code",
      "metadata": {
        "id": "56924cfd"
      },
      "source": [
        "class Car(ap.Agent):\n",
        "    \"\"\" \n",
        "        Esta clase define a un auto.\n",
        "    \"\"\"\n",
        "\n",
        "    def setup(self):\n",
        "        \"\"\" Este método se utiliza para inicializar un robot limpiador. \"\"\"\n",
        "        self.step_time = 0.1         # Tiempo que dura cada paso de la simulación\n",
        "\n",
        "        self.direction = [1, 0]      # Dirección a la que viaja el auto\n",
        "        self.speed = 0.0             # Velocidad en metros por segundo\n",
        "        self.max_speed = 10          # Máxima velocidad en metros por segundo\n",
        "        self.state = 1               # Car state: 1 = ok, 0 = dead\n",
        "\n",
        "    def update_position(self):\n",
        "        \"\"\" Este método se utiliza para inicializar la posición del auto. \"\"\"\n",
        "\n",
        "        # Verifica si el auto no ha chocado\n",
        "        if self.state == 0:\n",
        "            return\n",
        "\n",
        "         # Actualiza la posición según la velocidad actual\n",
        "        self.model.avenue.move_by(self, [self.speed*self.direction[0], self.speed*self.direction[1]])\n",
        "\n",
        "    def update_speed(self):\n",
        "        \n",
        "        \"\"\" Este método se utiliza para inicializar la velocidad del auto. \"\"\"\n",
        "\n",
        "        # Verifica si el auto no ha chocado\n",
        "        if self.state == 0:\n",
        "            return\n",
        "        \n",
        "        # Obten la distancia más pequeña a uno de los autos que vaya en la misma dirección        \n",
        "        p = self.model.avenue.positions[self]\n",
        "\n",
        "        min_car_distance = 1000000\n",
        "        for car in self.model.cars:\n",
        "            if car != self:\n",
        "                # Verifica si el carro va en la misma dirección\n",
        "                dot_p1 = self.direction[0]*car.direction[0] + self.direction[1]*car.direction[1]                \n",
        "                \n",
        "                # Verifica si el carro está atrás o adelante\n",
        "                p2 = self.model.avenue.positions[car]\n",
        "                dot_p2 = (p2[0]-p[0])*self.direction[0] + (p2[1]-p[1])*self.direction[1]\n",
        "\n",
        "                if dot_p1 > 0 and dot_p2 > 0:                     \n",
        "                    d = math.sqrt((p[0]-p2[0])**2 + (p[1]-p2[1])**2)                    \n",
        "                    \n",
        "                    if min_car_distance > d:\n",
        "                        min_car_distance = d\n",
        "       \n",
        "        # Obten la distancia al próximo semáforo\n",
        "        min_semaphore_distance = 1000000\n",
        "        semaphore_state = 0\n",
        "        close_semaphore = self.model.semaphores[0]\n",
        "        for semaphore in self.model.semaphores:\n",
        "\n",
        "            # Verifica si el semáforo apunta hacia el vehículo\n",
        "            dot_p1 = semaphore.direction[0]*self.direction[0] + semaphore.direction[1]*self.direction[1]\n",
        "            \n",
        "            # Verifica si el semáforo está adelante o atrás del vehículo\n",
        "            p2 = self.model.avenue.positions[semaphore]\n",
        "            dot_p2 = (p2[0]-p[0])*self.direction[0] + (p2[1]-p[1])*self.direction[1]\n",
        "\n",
        "            if dot_p1 < 0 and dot_p2 > 0:                            \n",
        "                d = math.sqrt((p[0]-p2[0])**2 + (p[1]-p2[1])**2)  \n",
        "                \n",
        "                if min_semaphore_distance > d:\n",
        "                    close_semaphore = semaphore\n",
        "                    min_semaphore_distance = d\n",
        "                    semaphore_state = semaphore.state\n",
        "        \n",
        "        # Actualiza la velocidad del auto\n",
        "\n",
        "        #print(\"Car \" + str(self.id) + \" has a \" + str(min_semaphore_distance) + \" distance with semaphore \" + str(close_semaphore.id) + \" with state \" + str(semaphore_state))\n",
        "      \n",
        "        if min_car_distance < 2:\n",
        "            self.speed = 0\n",
        "            self.state = 0\n",
        "\n",
        "        elif min_car_distance < 10:\n",
        "              self.speed = np.maximum(self.speed - 200*self.step_time, 0)\n",
        "\n",
        "        elif min_car_distance < 15:\n",
        "              self.speed = np.maximum(self.speed - 80*self.step_time, 0)\n",
        "                \n",
        "        elif min_semaphore_distance < 15 and semaphore_state == 1:\n",
        "            self.speed = np.minimum(self.speed + 5*self.step_time, self.max_speed)\n",
        "\n",
        "        elif min_semaphore_distance < 40 and semaphore_state == 1:\n",
        "            self.speed = np.maximum(self.speed - 5*self.step_time, 0)\n",
        "            \n",
        "        elif min_semaphore_distance < 45 and semaphore_state == 2:\n",
        "            self.speed = np.maximum(self.speed - 20*self.step_time, 0)\n",
        "\n",
        "        else:\n",
        "            self.speed = np.minimum(self.speed + 5*self.step_time, self.max_speed)\n",
        "                    \n"
      ],
      "id": "56924cfd",
      "execution_count": null,
      "outputs": []
    },
    {
      "cell_type": "markdown",
      "metadata": {
        "id": "41a7b592"
      },
      "source": [
        "## Definición del modelo de la avenida"
      ],
      "id": "41a7b592"
    },
    {
      "cell_type": "code",
      "metadata": {
        "id": "c7e94e21"
      },
      "source": [
        "class AvenueModel(ap.Model):\n",
        "    \"\"\" Esta clase define un modelo para una avenida simple con semáforo peatonal. \"\"\"\n",
        "\n",
        "    def setup(self):\n",
        "        \"\"\" Este método se utiliza para inicializar la avenida con varios autos y semáforos. \"\"\"\n",
        "        \n",
        "        self.strFile = \"\"\"{\n",
        "                    \"time\": 10,\n",
        "                    \"fps\": 20,\n",
        "                    \"cars\": [\n",
        "                        \"\"\"\n",
        "\n",
        "        self.frames = \"\"\n",
        "\n",
        "        # Inicializa los agentes los autos y los semáforos        \n",
        "        self.cars = ap.AgentList(self, self.p.cars, Car)\n",
        "        self.cars.step_time =  self.p.step_time\n",
        "        \n",
        "        c_north = int(self.p.cars/2)\n",
        "        c_south = self.p.cars - c_north\n",
        "\n",
        "        for k in range(c_north):\n",
        "            self.cars[k].direction = [0,1]\n",
        "\n",
        "        for k in range(c_south):\n",
        "            self.cars[k+c_north].direction = [0,-1]\n",
        "\n",
        "        self.semaphores = ap.AgentList(self,2, Semaphore)\n",
        "        self.semaphores.step_time =  self.p.step_time\n",
        "        self.semaphores.green_duration = self.p.green\n",
        "        self.semaphores.yellow_duration = self.p.yellow\n",
        "        self.semaphores.red_duration = self.p.red\n",
        "        self.semaphores[0].direction = [0, 1]\n",
        "        self.semaphores[1].direction = [0, -1]\n",
        "\n",
        "        # Inicializa el entorno\n",
        "        self.avenue = ap.Space(self, shape=[self.p.size, self.p.size], torus = True)\n",
        "                \n",
        "        # Agrega los semáforos al entorno\n",
        "        self.avenue.add_agents(self.semaphores, random=True)\n",
        "        self.avenue.move_to(self.semaphores[0], [self.p.size*0.5 - 20, self.p.size*0.5 - 5])\n",
        "        self.avenue.move_to(self.semaphores[1], [self.p.size*0.5 + 20, self.p.size*0.5 + 5])\n",
        "\n",
        "        self.semaphores[0].state = 2\n",
        "        \n",
        "        # Agrega los autos al entorno\n",
        "        self.avenue.add_agents(self.cars, random=True)\n",
        "        for k in range(c_north):\n",
        "            car = self.cars[k]\n",
        "            x = self.p.size*0.5 + 10\n",
        "            y = self.p.size*0.5 - 10 * (k+1)\n",
        "            self.avenue.move_to(car, [x,y])\n",
        "\n",
        "            self.initializeCar(car)\n",
        "            self.strFile += \",\"\n",
        "        \n",
        "        for k in range(c_south):\n",
        "            car = self.cars[k+c_north]\n",
        "            x = self.p.size*0.5 - 10\n",
        "            y = self.p.size*0.5 + 10 * (k+1)\n",
        "            self.avenue.move_to(car, [x,y])\n",
        "\n",
        "            self.initializeCar(car)\n",
        "            if k < c_south-1:\n",
        "              self.strFile += \",\"\n",
        "\n",
        "        self.finishCars()\n",
        "        self.initializeSemaphore(self.semaphores[0])\n",
        "        self.strFile += \",\"\n",
        "        self.initializeSemaphore(self.semaphores[1])\n",
        "        self.finishInitialization()\n",
        "\n",
        "    def step(self):\n",
        "        \"\"\" Este método se invoca para actualizar el estado de la avenida. \"\"\"        \n",
        "        self.semaphores.update()\n",
        "\n",
        "        self.cars.update_position()\n",
        "        self.cars.update_speed()\n",
        "\n",
        "        self.addFrame()\n",
        "        if self.t < self.p.steps:\n",
        "          self.frames += \",\"\n",
        "    \n",
        "    def update(self):\n",
        "        if self.t >= self.p.steps:\n",
        "            self.stop()\n",
        "            \n",
        "    def end(self):        \n",
        "        self.closeFile()\n",
        "    \n",
        "    def transformDir(self, direction):\n",
        "        if direction == [1, 0]:\n",
        "            dir = 0\n",
        "        elif direction == [0, 1]:\n",
        "            dir = 90\n",
        "        elif direction == [-1, 0]:\n",
        "            dir = 180\n",
        "        elif direction == [0, -1]:\n",
        "            dir = 270\n",
        "        return dir\n",
        "\n",
        "    # Funciones para crear el archivo JSON\n",
        "\n",
        "    # Agregar Auto a la inicialización del archivo\n",
        "    def initializeCar(self, car):\n",
        "        self.strFile += \"\"\"{\n",
        "                  \"id\": \"\"\" + str(car.id) + \"\"\",\n",
        "                  \"type\": \"CAR\",\n",
        "                  \"origin\": {\n",
        "                      \"x\": \"\"\" + str(self.avenue.positions[car][1]-self.p.size*0.5) + \"\"\",\n",
        "                      \"z\": \"\"\" + str(self.avenue.positions[car][0]-self.p.size*0.5) + \"\"\"\n",
        "                  },\n",
        "                  \"dir\": \"\"\" + str(self.transformDir(car.direction)) + \"\"\"\n",
        "              }\"\"\"\n",
        "    \n",
        "    # Cerrar arreglo de autos e inicializar el de Semáforos\n",
        "    def finishCars(self):\n",
        "        self.strFile += \"\"\"],\n",
        "                \"trafficLights\": [\"\"\"\n",
        "\n",
        "    # Inicializar semáforo en el archivo\n",
        "    def initializeSemaphore(self, light):\n",
        "        self.strFile += \"\"\"{\n",
        "                  \"id\": \"\"\" + str(light.id) + \"\"\",\n",
        "                  \"type\": \"LIGHT\",\n",
        "                  \"origin\": {\n",
        "                      \"x\": \"\"\" + str(self.avenue.positions[light][1]-self.p.size*0.5) + \"\"\",\n",
        "                      \"z\": \"\"\" + str(self.avenue.positions[light][0]-self.p.size*0.5) + \"\"\"\n",
        "                  },\n",
        "                  \"state\": \"\"\" + str(light.state) + \"\"\",\n",
        "                  \"dir\": \"\"\" + str(self.transformDir(light.direction)) + \"\"\"\n",
        "              }\"\"\"\n",
        "\n",
        "    # Cerrar arreglo de semáforos   \n",
        "    def finishInitialization(self):\n",
        "        self.strFile += \"\"\"],\n",
        "              \"\"\"\n",
        "        self.frames = \"\"\"\"frames\": [\n",
        "            \"\"\"\n",
        "    # Agregar frame nuevo\n",
        "    def addFrame(self):\n",
        "        \n",
        "        self.frames += \"\"\"{\n",
        "                            \"frame\": \"\"\" + str(self.t) + \"\"\",\n",
        "                            \"trafficLights\": [\"\"\"\n",
        "        carSize = len(self.cars)\n",
        "        trafficSize = len(self.semaphores)\n",
        "\n",
        "        for i in range(trafficSize): \n",
        "            self.frames += \"\"\"{\n",
        "                                  \"id\": \"\"\" + str(self.semaphores[i].id) + \"\"\",\n",
        "                                  \"state\": \"\"\" + str(self.semaphores[i].state) + \"\"\"\n",
        "                              }\"\"\"\n",
        "            if i < trafficSize-1:\n",
        "              self.frames += \",\"\n",
        "        \n",
        "\n",
        "        self.frames += \"\"\"],\n",
        "                          \"cars\": [\"\"\"\n",
        "        for i in range(carSize):\n",
        "            self.frames += \"\"\"{\n",
        "                                  \"id\": \"\"\" + str(self.cars[i].id) + \"\"\",\n",
        "                                  \"x\": \"\"\" + str(self.avenue.positions[self.cars[i]][1]-self.p.size*0.5) + \"\"\",\n",
        "                                  \"z\": \"\"\" + str(self.avenue.positions[self.cars[i]][0]-self.p.size*0.5) + \"\"\",\n",
        "                                  \"dir\": \"\"\" + str(self.transformDir(self.cars[i].direction)) + \"\"\"\n",
        "                              }\"\"\"\n",
        "            if i < carSize-1:\n",
        "              self.frames += \",\"\n",
        "        \n",
        "        self.frames += \"\"\"]\n",
        "            }\"\"\"\n",
        "\n",
        "    # Cerrar el archivo y agregar el string de los objetos JSON\n",
        "    def closeFile(self):\n",
        "        with open(\"/content/drive/Shareddrives/Graficas/Reto/testData.json\", \"w\") as file:\n",
        "          self.strFile += self.frames + \"]}\"\n",
        "          # Parse\n",
        "          file.write(self.strFile)\n"
      ],
      "id": "c7e94e21",
      "execution_count": null,
      "outputs": []
    },
    {
      "cell_type": "markdown",
      "metadata": {
        "id": "Doqyrx7mGNX3"
      },
      "source": [
        "## Crear Archivo JSON"
      ],
      "id": "Doqyrx7mGNX3"
    },
    {
      "cell_type": "code",
      "metadata": {
        "colab": {
          "base_uri": "https://localhost:8080/"
        },
        "id": "N3xChWu0GMbe",
        "outputId": "7145e358-95b5-40d6-d44f-1c7251401160"
      },
      "source": [
        "from google.colab import drive\n",
        "drive.mount('/content/drive/')"
      ],
      "id": "N3xChWu0GMbe",
      "execution_count": null,
      "outputs": [
        {
          "output_type": "stream",
          "name": "stdout",
          "text": [
            "Mounted at /content/drive/\n"
          ]
        }
      ]
    },
    {
      "cell_type": "markdown",
      "metadata": {
        "id": "5463e76c"
      },
      "source": [
        "## Funciones para visualización"
      ],
      "id": "5463e76c"
    },
    {
      "cell_type": "code",
      "metadata": {
        "id": "e08514f8"
      },
      "source": [
        "def animation_plot_single(m, ax):    \n",
        "    ax.set_title(f\"Avenida t={m.t*m.p.step_time:.2f}\")\n",
        "    \n",
        "    colors = [\"green\", \"yellow\", \"red\"]\n",
        "    \n",
        "    pos_s1 = m.avenue.positions[m.semaphores[0]]    \n",
        "    ax.scatter(*pos_s1, s=20, c=colors[m.semaphores[0].state])\n",
        "    \n",
        "    pos_s2 = m.avenue.positions[m.semaphores[1]]    \n",
        "    ax.scatter(*pos_s2, s=20, c=colors[m.semaphores[1].state])\n",
        "    \n",
        "    ax.set_xlim(0, m.avenue.shape[0])\n",
        "    ax.set_ylim(0, m.avenue.shape[1])    \n",
        "    \n",
        "    for car in m.cars:\n",
        "        pos_c = m.avenue.positions[car]    \n",
        "        ax.scatter(*pos_c, s=20, c=\"black\")\n",
        "    \n",
        "    ax.set_axis_off()\n",
        "    ax.set_aspect('equal', 'box')\n",
        "        \n",
        "def animation_plot(m, p):    \n",
        "    fig = plt.figure(figsize=(10, 10))\n",
        "    ax = fig.add_subplot(111)\n",
        "    animation = ap.animate(m(p), fig, ax, animation_plot_single)\n",
        "    return IPython.display.HTML(animation.to_jshtml(fps=20)) "
      ],
      "id": "e08514f8",
      "execution_count": null,
      "outputs": []
    },
    {
      "cell_type": "markdown",
      "metadata": {
        "id": "b287a696"
      },
      "source": [
        "## Parámetros de la simulación"
      ],
      "id": "b287a696"
    },
    {
      "cell_type": "code",
      "metadata": {
        "id": "f2b130ef"
      },
      "source": [
        "parameters = {\n",
        "    'step_time': 0.1,    # Procentaje de área cubierta por árboles\n",
        "    'size': 1000,        # Tamaño en metros de la avenida\n",
        "    'green': 15,          # Duración de la luz verde\n",
        "    'yellow': 5,         # Duración de la luz amarilla\n",
        "    'red': 10,           # Duración de la luz roja\n",
        "    'cars': 10,          # Número de autos en la simulación\n",
        "    'steps': 500,       # Número de pasos de la simulación\n",
        "}"
      ],
      "id": "f2b130ef",
      "execution_count": null,
      "outputs": []
    },
    {
      "cell_type": "markdown",
      "metadata": {
        "id": "2858640b"
      },
      "source": [
        "## Simulación de una corrida"
      ],
      "id": "2858640b"
    },
    {
      "cell_type": "code",
      "metadata": {
        "colab": {
          "base_uri": "https://localhost:8080/"
        },
        "id": "3ce9f759",
        "outputId": "46739340-bf50-4c42-ac03-a825ba3d77c1"
      },
      "source": [
        "model = AvenueModel(parameters)\n",
        "results = model.run()"
      ],
      "id": "3ce9f759",
      "execution_count": null,
      "outputs": [
        {
          "output_type": "stream",
          "name": "stdout",
          "text": [
            "Completed: 500 steps\n",
            "Run time: 0:00:01.765024\n",
            "Simulation finished\n"
          ]
        }
      ]
    },
    {
      "cell_type": "markdown",
      "metadata": {
        "id": "98fcb3a2"
      },
      "source": [
        "## Visualización de una corrida"
      ],
      "id": "98fcb3a2"
    },
    {
      "cell_type": "code",
      "metadata": {
        "colab": {
          "base_uri": "https://localhost:8080/",
          "height": 166
        },
        "id": "8a234096",
        "outputId": "ee8ac52b-1326-4768-9d04-5f5d2639abbd"
      },
      "source": [
        "animation_plot(AvenueModel, parameters)"
      ],
      "id": "8a234096",
      "execution_count": null,
      "outputs": [
        {
          "output_type": "error",
          "ename": "NameError",
          "evalue": "ignored",
          "traceback": [
            "\u001b[0;31m---------------------------------------------------------------------------\u001b[0m",
            "\u001b[0;31mNameError\u001b[0m                                 Traceback (most recent call last)",
            "\u001b[0;32m<ipython-input-1-455bbff6c8df>\u001b[0m in \u001b[0;36m<module>\u001b[0;34m()\u001b[0m\n\u001b[0;32m----> 1\u001b[0;31m \u001b[0manimation_plot\u001b[0m\u001b[0;34m(\u001b[0m\u001b[0mAvenueModel\u001b[0m\u001b[0;34m,\u001b[0m \u001b[0mparameters\u001b[0m\u001b[0;34m)\u001b[0m\u001b[0;34m\u001b[0m\u001b[0;34m\u001b[0m\u001b[0m\n\u001b[0m",
            "\u001b[0;31mNameError\u001b[0m: name 'animation_plot' is not defined"
          ]
        }
      ]
    },
    {
      "cell_type": "code",
      "metadata": {
        "id": "0e39d383"
      },
      "source": [
        ""
      ],
      "id": "0e39d383",
      "execution_count": null,
      "outputs": []
    }
  ]
}